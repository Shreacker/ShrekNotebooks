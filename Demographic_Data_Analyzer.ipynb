{
 "cells": [
  {
   "cell_type": "code",
   "execution_count": 2,
   "id": "05c9e85b-dea4-4d48-9dd5-4467fcf05480",
   "metadata": {},
   "outputs": [],
   "source": [
    "import numpy as np\n",
    "import pandas as pd\n",
    "import os"
   ]
  },
  {
   "cell_type": "code",
   "execution_count": 5,
   "id": "c0c4f556-8f6b-4b70-950d-4f273e84f11b",
   "metadata": {},
   "outputs": [
    {
     "data": {
      "text/plain": [
       "'C:\\\\Users\\\\THIS PC\\\\Projects\\\\Learning\\\\Demographic Data Analyzer\\\\adult_data.csv'"
      ]
     },
     "execution_count": 5,
     "metadata": {},
     "output_type": "execute_result"
    }
   ],
   "source": [
    "dataPath = os.path.join(os.getcwd(), 'adult_data.csv')\n",
    "dataPath"
   ]
  },
  {
   "cell_type": "code",
   "execution_count": 6,
   "id": "cecfdb97-7c69-4b6f-bcc2-bb79b64d6d67",
   "metadata": {},
   "outputs": [
    {
     "data": {
      "text/html": [
       "<div>\n",
       "<style scoped>\n",
       "    .dataframe tbody tr th:only-of-type {\n",
       "        vertical-align: middle;\n",
       "    }\n",
       "\n",
       "    .dataframe tbody tr th {\n",
       "        vertical-align: top;\n",
       "    }\n",
       "\n",
       "    .dataframe thead th {\n",
       "        text-align: right;\n",
       "    }\n",
       "</style>\n",
       "<table border=\"1\" class=\"dataframe\">\n",
       "  <thead>\n",
       "    <tr style=\"text-align: right;\">\n",
       "      <th></th>\n",
       "      <th>age</th>\n",
       "      <th>workclass</th>\n",
       "      <th>fnlwgt</th>\n",
       "      <th>education</th>\n",
       "      <th>education-num</th>\n",
       "      <th>marital-status</th>\n",
       "      <th>occupation</th>\n",
       "      <th>relationship</th>\n",
       "      <th>race</th>\n",
       "      <th>sex</th>\n",
       "      <th>capital-gain</th>\n",
       "      <th>capital-loss</th>\n",
       "      <th>hours-per-week</th>\n",
       "      <th>native-country</th>\n",
       "      <th>salary</th>\n",
       "    </tr>\n",
       "  </thead>\n",
       "  <tbody>\n",
       "    <tr>\n",
       "      <th>0</th>\n",
       "      <td>39</td>\n",
       "      <td>State-gov</td>\n",
       "      <td>77516</td>\n",
       "      <td>Bachelors</td>\n",
       "      <td>13</td>\n",
       "      <td>Never-married</td>\n",
       "      <td>Adm-clerical</td>\n",
       "      <td>Not-in-family</td>\n",
       "      <td>White</td>\n",
       "      <td>Male</td>\n",
       "      <td>2174</td>\n",
       "      <td>0</td>\n",
       "      <td>40</td>\n",
       "      <td>United-States</td>\n",
       "      <td>&lt;=50K</td>\n",
       "    </tr>\n",
       "    <tr>\n",
       "      <th>1</th>\n",
       "      <td>50</td>\n",
       "      <td>Self-emp-not-inc</td>\n",
       "      <td>83311</td>\n",
       "      <td>Bachelors</td>\n",
       "      <td>13</td>\n",
       "      <td>Married-civ-spouse</td>\n",
       "      <td>Exec-managerial</td>\n",
       "      <td>Husband</td>\n",
       "      <td>White</td>\n",
       "      <td>Male</td>\n",
       "      <td>0</td>\n",
       "      <td>0</td>\n",
       "      <td>13</td>\n",
       "      <td>United-States</td>\n",
       "      <td>&lt;=50K</td>\n",
       "    </tr>\n",
       "    <tr>\n",
       "      <th>2</th>\n",
       "      <td>38</td>\n",
       "      <td>Private</td>\n",
       "      <td>215646</td>\n",
       "      <td>HS-grad</td>\n",
       "      <td>9</td>\n",
       "      <td>Divorced</td>\n",
       "      <td>Handlers-cleaners</td>\n",
       "      <td>Not-in-family</td>\n",
       "      <td>White</td>\n",
       "      <td>Male</td>\n",
       "      <td>0</td>\n",
       "      <td>0</td>\n",
       "      <td>40</td>\n",
       "      <td>United-States</td>\n",
       "      <td>&lt;=50K</td>\n",
       "    </tr>\n",
       "    <tr>\n",
       "      <th>3</th>\n",
       "      <td>53</td>\n",
       "      <td>Private</td>\n",
       "      <td>234721</td>\n",
       "      <td>11th</td>\n",
       "      <td>7</td>\n",
       "      <td>Married-civ-spouse</td>\n",
       "      <td>Handlers-cleaners</td>\n",
       "      <td>Husband</td>\n",
       "      <td>Black</td>\n",
       "      <td>Male</td>\n",
       "      <td>0</td>\n",
       "      <td>0</td>\n",
       "      <td>40</td>\n",
       "      <td>United-States</td>\n",
       "      <td>&lt;=50K</td>\n",
       "    </tr>\n",
       "    <tr>\n",
       "      <th>4</th>\n",
       "      <td>28</td>\n",
       "      <td>Private</td>\n",
       "      <td>338409</td>\n",
       "      <td>Bachelors</td>\n",
       "      <td>13</td>\n",
       "      <td>Married-civ-spouse</td>\n",
       "      <td>Prof-specialty</td>\n",
       "      <td>Wife</td>\n",
       "      <td>Black</td>\n",
       "      <td>Female</td>\n",
       "      <td>0</td>\n",
       "      <td>0</td>\n",
       "      <td>40</td>\n",
       "      <td>Cuba</td>\n",
       "      <td>&lt;=50K</td>\n",
       "    </tr>\n",
       "  </tbody>\n",
       "</table>\n",
       "</div>"
      ],
      "text/plain": [
       "   age         workclass  fnlwgt  education  education-num  \\\n",
       "0   39         State-gov   77516  Bachelors             13   \n",
       "1   50  Self-emp-not-inc   83311  Bachelors             13   \n",
       "2   38           Private  215646    HS-grad              9   \n",
       "3   53           Private  234721       11th              7   \n",
       "4   28           Private  338409  Bachelors             13   \n",
       "\n",
       "       marital-status         occupation   relationship   race     sex  \\\n",
       "0       Never-married       Adm-clerical  Not-in-family  White    Male   \n",
       "1  Married-civ-spouse    Exec-managerial        Husband  White    Male   \n",
       "2            Divorced  Handlers-cleaners  Not-in-family  White    Male   \n",
       "3  Married-civ-spouse  Handlers-cleaners        Husband  Black    Male   \n",
       "4  Married-civ-spouse     Prof-specialty           Wife  Black  Female   \n",
       "\n",
       "   capital-gain  capital-loss  hours-per-week native-country salary  \n",
       "0          2174             0              40  United-States  <=50K  \n",
       "1             0             0              13  United-States  <=50K  \n",
       "2             0             0              40  United-States  <=50K  \n",
       "3             0             0              40  United-States  <=50K  \n",
       "4             0             0              40           Cuba  <=50K  "
      ]
     },
     "execution_count": 6,
     "metadata": {},
     "output_type": "execute_result"
    }
   ],
   "source": [
    "df = pd.read_csv(dataPath)\n",
    "df.head()"
   ]
  },
  {
   "cell_type": "markdown",
   "id": "a9e94c3d-ddbb-48b7-9f73-bfa0178f96c2",
   "metadata": {},
   "source": [
    "# How many people of each race are represented in this dataset?"
   ]
  },
  {
   "cell_type": "code",
   "execution_count": 14,
   "id": "c4f15bed-977d-4abe-bb79-057e99da8a01",
   "metadata": {},
   "outputs": [
    {
     "data": {
      "text/plain": [
       "White                 27816\n",
       "Black                  3124\n",
       "Asian-Pac-Islander     1039\n",
       "Amer-Indian-Eskimo      311\n",
       "Other                   271\n",
       "dtype: int64"
      ]
     },
     "execution_count": 14,
     "metadata": {},
     "output_type": "execute_result"
    }
   ],
   "source": [
    "unq_races = pd.Series(df['race'].unique())\n",
    "race_counts = pd.Series({\n",
    "    r: (df['race'] == r).sum() for r in unq_races\n",
    "})\n",
    "race_counts"
   ]
  },
  {
   "cell_type": "markdown",
   "id": "e71f05c0-8023-45cc-ba6f-10d813ee988e",
   "metadata": {},
   "source": [
    "# What is the average age of men?"
   ]
  },
  {
   "cell_type": "code",
   "execution_count": 29,
   "id": "fee9e2ad-c7b2-48b6-bef7-639b8a3e35c3",
   "metadata": {},
   "outputs": [
    {
     "data": {
      "text/plain": [
       "39.43354749885268"
      ]
     },
     "execution_count": 29,
     "metadata": {},
     "output_type": "execute_result"
    }
   ],
   "source": [
    "men = df[['sex', 'age']][df['sex'] == 'Male']\n",
    "men['age'].mean()"
   ]
  },
  {
   "cell_type": "markdown",
   "id": "7cb87b9e-991a-48f1-947e-eb2ea8e8e272",
   "metadata": {},
   "source": [
    "# What is the percentage of people who have a Bachelor's degree?"
   ]
  },
  {
   "cell_type": "code",
   "execution_count": 40,
   "id": "8051dcd7-ee01-4a35-8f34-c060886a4e82",
   "metadata": {},
   "outputs": [
    {
     "name": "stdout",
     "output_type": "stream",
     "text": [
      "16.45%\n"
     ]
    }
   ],
   "source": [
    "bac = df['education'][df['education'] == 'Bachelors'].count() / df['education'].count() * 100\n",
    "print(f'{bac:.2f}%')"
   ]
  },
  {
   "cell_type": "markdown",
   "id": "b07f3c99-7cba-4b8f-807e-0e3cadfb5e91",
   "metadata": {},
   "source": [
    "# What percentage of people with advanced education (Bachelors, Masters, Doctorate) make more than 50K?"
   ]
  },
  {
   "cell_type": "code",
   "execution_count": 82,
   "id": "da6b72f7-da6a-4a89-9161-d32c60f589f1",
   "metadata": {},
   "outputs": [
    {
     "name": "stdout",
     "output_type": "stream",
     "text": [
      "10.71%\n"
     ]
    }
   ],
   "source": [
    "adv_edu = pd.Series(['Bachelors', 'Masters', 'Doctorate'])\n",
    "adv_edu_50 = df[df['education'].isin(adv_edu)][['education', 'salary']]\n",
    "adv_edu_50 = adv_edu_50[adv_edu_50['salary'] == '>50K']\n",
    "print(f'{adv_edu_50['salary'].count() / df['salary'].count() * 100:.2f}%')"
   ]
  },
  {
   "cell_type": "markdown",
   "id": "824d0197-99a9-4fb6-8b72-42495f780b0a",
   "metadata": {},
   "source": [
    "# What percentage of people without advanced education make more than 50K?"
   ]
  },
  {
   "cell_type": "code",
   "execution_count": 92,
   "id": "398f28b0-8d37-40a6-9bfb-adff2e5e21b7",
   "metadata": {},
   "outputs": [
    {
     "name": "stdout",
     "output_type": "stream",
     "text": [
      "13.37%\n"
     ]
    }
   ],
   "source": [
    "non_adv_edu_50 = df[~df['education'].isin(adv_edu)][['education', 'salary']]\n",
    "non_adv_edu_50 = non_adv_edu_50[non_adv_edu_50['salary'] == '>50K']\n",
    "non_per = non_adv_edu_50['salary'].count() / df['salary'].count() * 100\n",
    "print(f'{non_per:.2f}%')"
   ]
  },
  {
   "cell_type": "markdown",
   "id": "96eaa256-a358-400a-9eea-db0f820525ac",
   "metadata": {},
   "source": [
    "# What is the minimum number of hours a person works per week?"
   ]
  },
  {
   "cell_type": "code",
   "execution_count": 93,
   "id": "866113dc-a32d-4d1a-b18c-666455c5f546",
   "metadata": {},
   "outputs": [
    {
     "data": {
      "text/plain": [
       "1"
      ]
     },
     "execution_count": 93,
     "metadata": {},
     "output_type": "execute_result"
    }
   ],
   "source": [
    "df['hours-per-week'].min()"
   ]
  },
  {
   "cell_type": "markdown",
   "id": "9f0230c9-c10d-4dcd-9a08-99516be26c80",
   "metadata": {},
   "source": [
    "# What percentage of the people who work the minimum number of hours per week have a salary of more than 50K?"
   ]
  },
  {
   "cell_type": "code",
   "execution_count": 105,
   "id": "d4dfd831-bc84-40b9-a923-768163511dbb",
   "metadata": {},
   "outputs": [
    {
     "name": "stdout",
     "output_type": "stream",
     "text": [
      "0.01%\n"
     ]
    }
   ],
   "source": [
    "min_50 = df[df['hours-per-week'] == df['hours-per-week'].min()][['hours-per-week', 'salary']]\n",
    "per_min_50 = min_50[min_50['salary'] == '>50K']['hours-per-week'].count() / df.iloc[:, 0].count() * 100\n",
    "print(f'{per_min_50:.2f}%')"
   ]
  },
  {
   "cell_type": "markdown",
   "id": "dd93cda4-44e6-4ffe-9e02-5e73f4811b38",
   "metadata": {},
   "source": [
    "# What country has the highest percentage of people that earn >50K and what is that percentage?"
   ]
  },
  {
   "cell_type": "code",
   "execution_count": 153,
   "id": "c89a6c10-f578-46b3-89f4-ededcecf1a90",
   "metadata": {},
   "outputs": [
    {
     "data": {
      "text/html": [
       "<div>\n",
       "<style scoped>\n",
       "    .dataframe tbody tr th:only-of-type {\n",
       "        vertical-align: middle;\n",
       "    }\n",
       "\n",
       "    .dataframe tbody tr th {\n",
       "        vertical-align: top;\n",
       "    }\n",
       "\n",
       "    .dataframe thead th {\n",
       "        text-align: right;\n",
       "    }\n",
       "</style>\n",
       "<table border=\"1\" class=\"dataframe\">\n",
       "  <thead>\n",
       "    <tr style=\"text-align: right;\">\n",
       "      <th>native-country</th>\n",
       "      <th>Iran</th>\n",
       "      <th>France</th>\n",
       "      <th>India</th>\n",
       "      <th>Taiwan</th>\n",
       "      <th>Japan</th>\n",
       "      <th>Yugoslavia</th>\n",
       "      <th>Cambodia</th>\n",
       "      <th>Italy</th>\n",
       "      <th>England</th>\n",
       "      <th>Canada</th>\n",
       "      <th>...</th>\n",
       "      <th>Honduras</th>\n",
       "      <th>Vietnam</th>\n",
       "      <th>Peru</th>\n",
       "      <th>Nicaragua</th>\n",
       "      <th>Mexico</th>\n",
       "      <th>Guatemala</th>\n",
       "      <th>Columbia</th>\n",
       "      <th>Dominican-Republic</th>\n",
       "      <th>Holand-Netherlands</th>\n",
       "      <th>Outlying-US(Guam-USVI-etc)</th>\n",
       "    </tr>\n",
       "  </thead>\n",
       "  <tbody>\n",
       "    <tr>\n",
       "      <th>% earning &gt;50K</th>\n",
       "      <td>41.9</td>\n",
       "      <td>41.4</td>\n",
       "      <td>40.0</td>\n",
       "      <td>39.2</td>\n",
       "      <td>38.7</td>\n",
       "      <td>37.5</td>\n",
       "      <td>36.8</td>\n",
       "      <td>34.2</td>\n",
       "      <td>33.3</td>\n",
       "      <td>32.2</td>\n",
       "      <td>...</td>\n",
       "      <td>7.7</td>\n",
       "      <td>7.5</td>\n",
       "      <td>6.5</td>\n",
       "      <td>5.9</td>\n",
       "      <td>5.1</td>\n",
       "      <td>4.7</td>\n",
       "      <td>3.4</td>\n",
       "      <td>2.9</td>\n",
       "      <td>NaN</td>\n",
       "      <td>NaN</td>\n",
       "    </tr>\n",
       "  </tbody>\n",
       "</table>\n",
       "<p>1 rows × 42 columns</p>\n",
       "</div>"
      ],
      "text/plain": [
       "native-country  Iran  France  India  Taiwan  Japan  Yugoslavia  Cambodia  \\\n",
       "% earning >50K  41.9    41.4   40.0    39.2   38.7        37.5      36.8   \n",
       "\n",
       "native-country  Italy  England  Canada  ...  Honduras  Vietnam  Peru  \\\n",
       "% earning >50K   34.2     33.3    32.2  ...       7.7      7.5   6.5   \n",
       "\n",
       "native-country  Nicaragua  Mexico  Guatemala  Columbia  Dominican-Republic  \\\n",
       "% earning >50K        5.9     5.1        4.7       3.4                 2.9   \n",
       "\n",
       "native-country  Holand-Netherlands  Outlying-US(Guam-USVI-etc)  \n",
       "% earning >50K                 NaN                         NaN  \n",
       "\n",
       "[1 rows x 42 columns]"
      ]
     },
     "execution_count": 153,
     "metadata": {},
     "output_type": "execute_result"
    }
   ],
   "source": [
    "country_counts = df['native-country'].value_counts()\n",
    "country_rich_counts = df[df['salary'] == '>50K']['native-country'].value_counts()\n",
    "\n",
    "country_rich_percentage = (country_rich_counts / country_counts * 100).round(1)\n",
    "\n",
    "rich_df = pd.DataFrame([country_rich_percentage])\n",
    "rich_df.index = ['% earning >50K']\n",
    "rich_df.loc[:, rich_df.iloc[0].sort_values(ascending=False).index]"
   ]
  },
  {
   "cell_type": "markdown",
   "id": "fa1b3bb8-be0c-4343-a17b-8a819697ad20",
   "metadata": {},
   "source": [
    "# Identify the most popular occupation for those who earn >50K in India"
   ]
  },
  {
   "cell_type": "code",
   "execution_count": 185,
   "id": "8cadbc4d-469d-44ba-a48d-113eb5a28471",
   "metadata": {},
   "outputs": [
    {
     "data": {
      "text/html": [
       "<div>\n",
       "<style scoped>\n",
       "    .dataframe tbody tr th:only-of-type {\n",
       "        vertical-align: middle;\n",
       "    }\n",
       "\n",
       "    .dataframe tbody tr th {\n",
       "        vertical-align: top;\n",
       "    }\n",
       "\n",
       "    .dataframe thead th {\n",
       "        text-align: right;\n",
       "    }\n",
       "</style>\n",
       "<table border=\"1\" class=\"dataframe\">\n",
       "  <thead>\n",
       "    <tr style=\"text-align: right;\">\n",
       "      <th></th>\n",
       "      <th>occupation</th>\n",
       "    </tr>\n",
       "  </thead>\n",
       "  <tbody>\n",
       "    <tr>\n",
       "      <th>11</th>\n",
       "      <td>Prof-specialty</td>\n",
       "    </tr>\n",
       "    <tr>\n",
       "      <th>968</th>\n",
       "      <td>Exec-managerial</td>\n",
       "    </tr>\n",
       "    <tr>\n",
       "      <th>1327</th>\n",
       "      <td>Other-service</td>\n",
       "    </tr>\n",
       "    <tr>\n",
       "      <th>7258</th>\n",
       "      <td>Prof-specialty</td>\n",
       "    </tr>\n",
       "    <tr>\n",
       "      <th>7285</th>\n",
       "      <td>Prof-specialty</td>\n",
       "    </tr>\n",
       "  </tbody>\n",
       "</table>\n",
       "</div>"
      ],
      "text/plain": [
       "           occupation\n",
       "11     Prof-specialty\n",
       "968   Exec-managerial\n",
       "1327    Other-service\n",
       "7258   Prof-specialty\n",
       "7285   Prof-specialty"
      ]
     },
     "execution_count": 185,
     "metadata": {},
     "output_type": "execute_result"
    }
   ],
   "source": [
    "india_rich = df[df['native-country'] == 'India'][['occupation', 'salary']]\n",
    "india_rich = india_rich[india_rich['salary'] == '>50K']['occupation']\n",
    "india_rich.to_frame().head()"
   ]
  },
  {
   "cell_type": "code",
   "execution_count": 186,
   "id": "2e94a2ec-4a8b-4803-bf3f-8df150f8c55a",
   "metadata": {},
   "outputs": [
    {
     "data": {
      "text/plain": [
       "Prof-specialty      25\n",
       "Exec-managerial      8\n",
       "Other-service        2\n",
       "Tech-support         2\n",
       "Transport-moving     1\n",
       "Sales                1\n",
       "Adm-clerical         1\n",
       "dtype: int32"
      ]
     },
     "execution_count": 186,
     "metadata": {},
     "output_type": "execute_result"
    }
   ],
   "source": [
    "india_rich_occ = pd.Series({\n",
    "    r: (india_rich.values == r).sum() for r in india_rich.unique()\n",
    "}) #india_rich is Series -> use values instead of columns(DataFrame)\n",
    "india_rich_occ"
   ]
  },
  {
   "cell_type": "code",
   "execution_count": null,
   "id": "dc3148f9-3dbf-4602-a55d-1da222bd4911",
   "metadata": {},
   "outputs": [],
   "source": []
  }
 ],
 "metadata": {
  "kernelspec": {
   "display_name": "Python 3 (ipykernel)",
   "language": "python",
   "name": "python3"
  },
  "language_info": {
   "codemirror_mode": {
    "name": "ipython",
    "version": 3
   },
   "file_extension": ".py",
   "mimetype": "text/x-python",
   "name": "python",
   "nbconvert_exporter": "python",
   "pygments_lexer": "ipython3",
   "version": "3.12.7"
  }
 },
 "nbformat": 4,
 "nbformat_minor": 5
}
